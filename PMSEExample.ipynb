{
 "cells": [
  {
   "attachments": {},
   "cell_type": "markdown",
   "metadata": {},
   "source": [
    "# Perturbation Mean Squared Error (P-MSE)\n",
    "\n",
    "### Given one or more points, a model and a function of interest, this script computes:\n",
    "### (i) SmoothHess, SmoothGrad, SoftPluss Hess, SoftPlus Grad and Vanilla Grad \n",
    "### (ii) P-MSE of each method for the points\n",
    "\n",
    "### The Script As Is Below Runs in ~20 mins on an NVIDIA V100 32GB. Control number of points evaluated with hop variable."
   ]
  },
  {
   "cell_type": "code",
   "execution_count": 3,
   "metadata": {},
   "outputs": [
    {
     "name": "stdout",
     "output_type": "stream",
     "text": [
      "4.50.0\n"
     ]
    }
   ],
   "source": [
    "import pandas as pd\n",
    "import numpy as np\n",
    "import torch \n",
    "import sys\n",
    "import matplotlib.pyplot as plt\n",
    "import warnings\n",
    "warnings.filterwarnings(\"ignore\")\n",
    "import time \n",
    "\n",
    "# Local Imports \n",
    "from Datasets import * \n",
    "from Models import * \n",
    "from ComputeDerivatives import Generate_Grad_Hess_From_List\n",
    "from Evaluation import Compute_PMSE"
   ]
  },
  {
   "attachments": {},
   "cell_type": "markdown",
   "metadata": {},
   "source": [
    "# For User To Choose:\n",
    "### Dataset, Function of Interest, Number of points to evaluate, Radius, Sigma and Beta "
   ]
  },
  {
   "cell_type": "code",
   "execution_count": 32,
   "metadata": {},
   "outputs": [],
   "source": [
    "dataset = \"FMNIST\" # Choose Dataset From: { MNIST, FMNIST or CIFAR10 }\n",
    "function = \"Logit\" # Choose Function Of Interest From: { Logit, SoftMax, Penult_X} where X is the desired integer index of any penultimate neuron \n",
    "ind = 0  # Starting index for eval\n",
    "hop = 200 # Number of points to eval i.e. ind = 1 hop = 10 --> points used index: 10, 11, 12, ..., 19 \n",
    "rs = [0.5]  ####### Radius of interest for P-MSE , include in list format \n",
    "\n",
    "##### Smoothing Method Hyperparameters ############\n",
    "sigma = 1.8e-4 # SmoothHess SmoothGrad Hyperparamter  --- 1.8e-4 is best found value for FMNIST Logit for SmoothGrad and SmoothHess + SmoothGrad @ r = 0.5\n",
    "beta = 160     # SoftPlus Hyperparameter ----- 200 is best found value for FMNIST Logit for SoftPlus Hess + SoftPlus Grad  @ r = 0.5 \n",
    "##########################################\n",
    "\n",
    "\n",
    "t = time.time() "
   ]
  },
  {
   "attachments": {},
   "cell_type": "markdown",
   "metadata": {},
   "source": [
    "## Config\n",
    "### Includes Reccomended configs for each dataset"
   ]
  },
  {
   "cell_type": "code",
   "execution_count": 33,
   "metadata": {},
   "outputs": [],
   "source": [
    "# Reccomended Loadouts for Each Dataset\n",
    "if dataset == \"MNIST\":\n",
    "    args = {\n",
    "        \"function_use\" : function, \n",
    "        \"iterations\" : 10,\n",
    "        \"n1\" : 5000, \n",
    "        \"ConvNet\" : 0, \n",
    "        \"Symmetrize\" : 1,\n",
    "        \"ReflectSamples\": 1,\n",
    "        \"dataset\" :  dataset,\n",
    "        \"batch_size\" : 1000, \n",
    "        \"valstart\" : 50000,\n",
    "        \"OriginalDim\" : (784,)\n",
    "    }\n",
    "\n",
    "    # Used to construct network \n",
    "    network_args = {\n",
    "        \"network\": \"FCN\",\n",
    "        \"input_dim\": 784,\n",
    "        \"feature_dim\" :  250,          \n",
    "        \"network_dimensions\" : \"500-300-250-250\",\n",
    "        \"loss_type\" : \"supervised_ce\", \n",
    "        \"num_classes\" : 10 \n",
    "    }\n",
    "\n",
    "    PMSE_N1, PMSE_N2 = 15000, 1 \n",
    "\n",
    "elif dataset == \"FMNIST\":\n",
    "    args = {\n",
    "        \"function_use\" : function, \n",
    "        \"iterations\" : 10,\n",
    "        \"n1\" : 5000, \n",
    "        \"ConvNet\" : 0, \n",
    "        \"Symmetrize\" : 1,\n",
    "        \"ReflectSamples\": 1,\n",
    "        \"dataset\" :  dataset,\n",
    "        \"batch_size\" : 1000,\n",
    "        \"valstart\" : 50000,\n",
    "        \"OriginalDim\" : (784,)\n",
    "    }\n",
    "     \n",
    "    network_args = {\n",
    "        \"network\": \"FCN\",\n",
    "        \"input_dim\": 784,\n",
    "        \"feature_dim\" :  250,          \n",
    "        \"network_dimensions\" : \"500-300-250-250\",\n",
    "        \"loss_type\" : \"supervised_ce\", \n",
    "        \"num_classes\" : 10 \n",
    "    }\n",
    "\n",
    "    PMSE_N1, PMSE_N2 = 15000, 1 \n",
    "\n",
    "     \n",
    "elif dataset == \"CIFAR10\":\n",
    "    args = {\n",
    "        \"function_use\" : function, \n",
    "        \"iterations\" : 480,\n",
    "        \"n1\" : 500, \n",
    "        \"ConvNet\" : 1, \n",
    "        \"Symmetrize\" : 1,\n",
    "        \"ReflectSamples\": 1,\n",
    "        \"dataset\" :  dataset,\n",
    "        \"batch_size\" : 1000,\n",
    "        \"valstart\" : 40000,\n",
    "        \"OriginalDim\" : (3,32,32)\n",
    "    }\n",
    "\n",
    "    network_args = {\n",
    "        \"pretrained\" : 0 ,\n",
    "        \"resnet\" : \"resnet18\",\n",
    "        \"cifarstyle\" : 1, \n",
    "        \"num_classes\" : 10,\n",
    "        'network': \"ResNet\"\n",
    "    }\n",
    "    \n",
    "    PMSE_N1, PMSE_N2 = 3000, 5 \n",
    "\n",
    "assert dataset in [\"MNIST\", \"FMNIST\", \"CIFAR10\"]; \n",
    "args['binary'] = False \n",
    "args['ind'] = ind\n",
    "args['hop'] = hop\n",
    "args['sigma'] = sigma\n",
    "args['beta'] = beta \n",
    "args['rs'] = rs \n",
    "args['savedir'] = \"./ExplainerResults/\""
   ]
  },
  {
   "attachments": {},
   "cell_type": "markdown",
   "metadata": {},
   "source": [
    "## Load Data and Model"
   ]
  },
  {
   "cell_type": "code",
   "execution_count": 34,
   "metadata": {},
   "outputs": [],
   "source": [
    "# Load Data \n",
    "train_loader, train_data, val_loader, val_data, test_loader, test_data, train_no_shuffle_no_aug_data, train_no_shuffle_no_aug_loader = getattr(sys.modules[__name__], args['dataset'])(**args)\n",
    "data, _ = next(iter(test_loader))\n",
    "if dataset in [\"MNIST\", 'FMNIST']: # Flatten FCN datasets \n",
    "    data = data.view(len(data), -1)\n",
    "data_use = data[ind * hop  : (ind + 1 ) * hop,:]\n",
    "\n",
    "# Load Model\n",
    "model = getattr(sys.modules[__name__], network_args['network'])(**network_args).cuda()\n",
    "model.load_state_dict(torch.load(\"./Models/\" + dataset  + \".pth\"))\n",
    "model = model.eval()\n",
    "model = model.cuda()"
   ]
  },
  {
   "attachments": {},
   "cell_type": "markdown",
   "metadata": {},
   "source": [
    "# Estimate SmoothHess and SmoothGrad"
   ]
  },
  {
   "cell_type": "code",
   "execution_count": 35,
   "metadata": {},
   "outputs": [
    {
     "name": "stdout",
     "output_type": "stream",
     "text": [
      "Computing for point 0\n",
      "Computing for point 5\n",
      "Computing for point 10\n",
      "Computing for point 15\n",
      "Computing for point 20\n",
      "Computing for point 25\n",
      "Computing for point 30\n",
      "Computing for point 35\n",
      "Computing for point 40\n",
      "Computing for point 45\n",
      "Computing for point 50\n",
      "Computing for point 55\n",
      "Computing for point 60\n",
      "Computing for point 65\n",
      "Computing for point 70\n",
      "Computing for point 75\n",
      "Computing for point 80\n",
      "Computing for point 85\n",
      "Computing for point 90\n",
      "Computing for point 95\n",
      "Computing for point 100\n",
      "Computing for point 105\n",
      "Computing for point 110\n",
      "Computing for point 115\n",
      "Computing for point 120\n",
      "Computing for point 125\n",
      "Computing for point 130\n",
      "Computing for point 135\n",
      "Computing for point 140\n",
      "Computing for point 145\n",
      "Computing for point 150\n",
      "Computing for point 155\n",
      "Computing for point 160\n",
      "Computing for point 165\n",
      "Computing for point 170\n",
      "Computing for point 175\n",
      "Computing for point 180\n",
      "Computing for point 185\n",
      "Computing for point 190\n",
      "Computing for point 195\n"
     ]
    }
   ],
   "source": [
    "SmoothGrad_List, SmoothHess_List = Generate_Grad_Hess_From_List(model, data_use, args, \"Smooth\")"
   ]
  },
  {
   "attachments": {},
   "cell_type": "markdown",
   "metadata": {},
   "source": [
    "## Estimate P-MSE for SmoothHess and SmoothGrad"
   ]
  },
  {
   "cell_type": "code",
   "execution_count": 36,
   "metadata": {},
   "outputs": [
    {
     "name": "stdout",
     "output_type": "stream",
     "text": [
      "Computing P-MSE\n",
      "0\n",
      "5\n",
      "10\n",
      "15\n",
      "20\n",
      "25\n",
      "30\n",
      "35\n",
      "40\n",
      "45\n",
      "50\n",
      "55\n",
      "60\n",
      "65\n",
      "70\n",
      "75\n",
      "80\n",
      "85\n",
      "90\n",
      "95\n",
      "100\n",
      "105\n",
      "110\n",
      "115\n",
      "120\n",
      "125\n",
      "130\n",
      "135\n",
      "140\n",
      "145\n",
      "150\n",
      "155\n",
      "160\n",
      "165\n",
      "170\n",
      "175\n",
      "180\n",
      "185\n",
      "190\n",
      "195\n"
     ]
    }
   ],
   "source": [
    "Smooth_Hess_Grad_PMSE =  Compute_PMSE(model, PMSE_N1, PMSE_N2, data_use, args['OriginalDim'], function, rs, SmoothGrad_List, SmoothHess_List)\n",
    "SmoothGrad_PMSE = Smooth_Hess_Grad_PMSE[rs[0]].FirstOrder.mean()\n",
    "SmoothHess_PMSE = Smooth_Hess_Grad_PMSE[rs[0]].SecondOrder.mean()"
   ]
  },
  {
   "attachments": {},
   "cell_type": "markdown",
   "metadata": {},
   "source": [
    "# Estimate SoftPlus Hessiand and SoftPlus Gradient"
   ]
  },
  {
   "cell_type": "code",
   "execution_count": 37,
   "metadata": {},
   "outputs": [
    {
     "name": "stdout",
     "output_type": "stream",
     "text": [
      "Computing for point 0\n",
      "Computing for point 5\n",
      "Computing for point 10\n",
      "Computing for point 15\n",
      "Computing for point 20\n",
      "Computing for point 25\n",
      "Computing for point 30\n",
      "Computing for point 35\n",
      "Computing for point 40\n",
      "Computing for point 45\n",
      "Computing for point 50\n",
      "Computing for point 55\n",
      "Computing for point 60\n",
      "Computing for point 65\n",
      "Computing for point 70\n",
      "Computing for point 75\n",
      "Computing for point 80\n",
      "Computing for point 85\n",
      "Computing for point 90\n",
      "Computing for point 95\n",
      "Computing for point 100\n",
      "Computing for point 105\n",
      "Computing for point 110\n",
      "Computing for point 115\n",
      "Computing for point 120\n",
      "Computing for point 125\n",
      "Computing for point 130\n",
      "Computing for point 135\n",
      "Computing for point 140\n",
      "Computing for point 145\n",
      "Computing for point 150\n",
      "Computing for point 155\n",
      "Computing for point 160\n",
      "Computing for point 165\n",
      "Computing for point 170\n",
      "Computing for point 175\n",
      "Computing for point 180\n",
      "Computing for point 185\n",
      "Computing for point 190\n",
      "Computing for point 195\n"
     ]
    }
   ],
   "source": [
    "SoftPlusGrad_List, SoftPlusHess_List = Generate_Grad_Hess_From_List(model, data_use, args, \"SoftPlus\")\n",
    "\n",
    "# Re Load model after potential modifications \n",
    "model = getattr(sys.modules[__name__], network_args['network'])(**network_args).cuda()\n",
    "model.load_state_dict(torch.load(\"./Models/\" + dataset  + \".pth\"))\n",
    "model = model.eval()\n",
    "model = model.cuda()"
   ]
  },
  {
   "attachments": {},
   "cell_type": "markdown",
   "metadata": {},
   "source": [
    "# Estimate P-MSE for SoftPlus Hessian and SoftPlus Gradient"
   ]
  },
  {
   "cell_type": "code",
   "execution_count": 38,
   "metadata": {},
   "outputs": [
    {
     "name": "stdout",
     "output_type": "stream",
     "text": [
      "Computing P-MSE\n",
      "0\n",
      "5\n",
      "10\n",
      "15\n",
      "20\n",
      "25\n",
      "30\n",
      "35\n",
      "40\n",
      "45\n",
      "50\n",
      "55\n",
      "60\n",
      "65\n",
      "70\n",
      "75\n",
      "80\n",
      "85\n",
      "90\n",
      "95\n",
      "100\n",
      "105\n",
      "110\n",
      "115\n",
      "120\n",
      "125\n",
      "130\n",
      "135\n",
      "140\n",
      "145\n",
      "150\n",
      "155\n",
      "160\n",
      "165\n",
      "170\n",
      "175\n",
      "180\n",
      "185\n",
      "190\n",
      "195\n"
     ]
    }
   ],
   "source": [
    "SoftPlus_Hess_Grad_PMSE = Compute_PMSE(model, PMSE_N1, PMSE_N2, data_use, args['OriginalDim'], function, rs, SoftPlusGrad_List, SoftPlusHess_List)\n",
    "SoftPlus_Grad_PMSE = SoftPlus_Hess_Grad_PMSE[rs[0]].FirstOrder.mean()\n",
    "SoftPlus_Hess_PMSE = SoftPlus_Hess_Grad_PMSE[rs[0]].SecondOrder.mean()"
   ]
  },
  {
   "attachments": {},
   "cell_type": "markdown",
   "metadata": {},
   "source": [
    "# Estimate Vanilla Gradient"
   ]
  },
  {
   "cell_type": "code",
   "execution_count": 39,
   "metadata": {},
   "outputs": [
    {
     "name": "stdout",
     "output_type": "stream",
     "text": [
      "Computing for point 0\n",
      "Computing for point 5\n",
      "Computing for point 10\n",
      "Computing for point 15\n",
      "Computing for point 20\n",
      "Computing for point 25\n",
      "Computing for point 30\n",
      "Computing for point 35\n",
      "Computing for point 40\n",
      "Computing for point 45\n",
      "Computing for point 50\n",
      "Computing for point 55\n",
      "Computing for point 60\n",
      "Computing for point 65\n",
      "Computing for point 70\n",
      "Computing for point 75\n",
      "Computing for point 80\n",
      "Computing for point 85\n",
      "Computing for point 90\n",
      "Computing for point 95\n",
      "Computing for point 100\n",
      "Computing for point 105\n",
      "Computing for point 110\n",
      "Computing for point 115\n",
      "Computing for point 120\n",
      "Computing for point 125\n",
      "Computing for point 130\n",
      "Computing for point 135\n",
      "Computing for point 140\n",
      "Computing for point 145\n",
      "Computing for point 150\n",
      "Computing for point 155\n",
      "Computing for point 160\n",
      "Computing for point 165\n",
      "Computing for point 170\n",
      "Computing for point 175\n",
      "Computing for point 180\n",
      "Computing for point 185\n",
      "Computing for point 190\n",
      "Computing for point 195\n"
     ]
    }
   ],
   "source": [
    "VanillaGrad_List, VanillaHess_List = Generate_Grad_Hess_From_List(model, data_use, args, \"Vanilla\") # VanillaHess_List is a formality, it is 0 for ReLU networks interior and output neurons "
   ]
  },
  {
   "attachments": {},
   "cell_type": "markdown",
   "metadata": {},
   "source": [
    "# Estimate P-MSE for Vanilla Gradient"
   ]
  },
  {
   "cell_type": "code",
   "execution_count": 40,
   "metadata": {},
   "outputs": [
    {
     "name": "stdout",
     "output_type": "stream",
     "text": [
      "Computing P-MSE\n",
      "0\n",
      "5\n",
      "10\n",
      "15\n",
      "20\n",
      "25\n",
      "30\n",
      "35\n",
      "40\n",
      "45\n",
      "50\n",
      "55\n",
      "60\n",
      "65\n",
      "70\n",
      "75\n",
      "80\n",
      "85\n",
      "90\n",
      "95\n",
      "100\n",
      "105\n",
      "110\n",
      "115\n",
      "120\n",
      "125\n",
      "130\n",
      "135\n",
      "140\n",
      "145\n",
      "150\n",
      "155\n",
      "160\n",
      "165\n",
      "170\n",
      "175\n",
      "180\n",
      "185\n",
      "190\n",
      "195\n"
     ]
    }
   ],
   "source": [
    "Vanilla_Grad_PMSE = Compute_PMSE(model, PMSE_N1, PMSE_N2, data_use, args['OriginalDim'], function, rs, VanillaGrad_List, VanillaHess_List)\n",
    "VanillaGrad_PMSE = Vanilla_Grad_PMSE[rs[0]].FirstOrder.mean()"
   ]
  },
  {
   "attachments": {},
   "cell_type": "markdown",
   "metadata": {},
   "source": [
    "# Plot P-MSE For Each Method"
   ]
  },
  {
   "cell_type": "code",
   "execution_count": 41,
   "metadata": {},
   "outputs": [
    {
     "data": {
      "text/plain": [
       "Text(0.5, 0, 'Method')"
      ]
     },
     "execution_count": 41,
     "metadata": {},
     "output_type": "execute_result"
    },
    {
     "data": {
      "image/png": "[encoded data removed]",
      "text/plain": [
       "<Figure size 1500x1500 with 1 Axes>"
      ]
     },
     "metadata": {},
     "output_type": "display_data"
    }
   ],
   "source": [
    "fig = plt.figure(figsize  = (15,15))\n",
    "methods = [\"SmoothHess + SmoothGrad\", \"SmoothGrad\", \"SoftPlus Hess + Grad\", \"SoftPlus Grad\", \"Vanilla Grad\"]\n",
    "values  = [SmoothHess_PMSE, SmoothGrad_PMSE, SoftPlus_Hess_PMSE, SoftPlus_Grad_PMSE, VanillaGrad_PMSE]\n",
    "values = [float(val) for val in values]\n",
    "plt.bar(methods, values, color=['lightblue', 'blue', 'lightgreen', 'green', 'purple'])\n",
    "plt.title(\"P-MSE for Different Methods\", weight='bold', size = 20)\n",
    "plt.ylabel(\"P-MSE\", weight='bold', size = 20)\n",
    "plt.xlabel(\"Method\", weight = \"bold\", size = 20) \n"
   ]
  }
 ],
 "metadata": {
  "kernelspec": {
   "display_name": "base",
   "language": "python",
   "name": "python3"
  },
  "language_info": {
   "codemirror_mode": {
    "name": "ipython",
    "version": 3
   },
   "file_extension": ".py",
   "mimetype": "text/x-python",
   "name": "python",
   "nbconvert_exporter": "python",
   "pygments_lexer": "ipython3",
   "version": "3.8.3"
  },
  "orig_nbformat": 4
 },
 "nbformat": 4,
 "nbformat_minor": 2
}
